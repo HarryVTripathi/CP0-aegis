{
 "cells": [
  {
   "cell_type": "code",
   "execution_count": 19,
   "metadata": {},
   "outputs": [],
   "source": [
    "class Solution:\n",
    "    def lengthOfLongestSubstring(self, s: str) -> int:\n",
    "        lf = 0\n",
    "        rt = 0\n",
    "        lngt = 0\n",
    "        s_arr = list(s)\n",
    "        s1 = set()\n",
    "\n",
    "        while rt < len(s_arr):\n",
    "            if s_arr[rt] in s1:\n",
    "                print(\"rt: \", s_arr[rt])\n",
    "\n",
    "                while s_arr[lf] !=  s_arr[rt]:\n",
    "                    print(\"lf: \", s_arr[lf])\n",
    "                    s1.discard(s_arr[lf])\n",
    "                    lf += 1\n",
    "\n",
    "                s1.discard(s_arr[lf])\n",
    "                lf += 1\n",
    "\n",
    "            else:\n",
    "                print(\"else rt: \", s_arr[rt])\n",
    "                s1.add(s_arr[rt])\n",
    "                rt += 1\n",
    "\n",
    "            lngt = max(lngt, (rt - lf))\n",
    "            print(\"======================\", s1)\n",
    "\n",
    "        return lngt"
   ]
  },
  {
   "cell_type": "code",
   "execution_count": 20,
   "metadata": {},
   "outputs": [],
   "source": [
    "s = \"zabcdbefchik\""
   ]
  },
  {
   "cell_type": "code",
   "execution_count": 21,
   "metadata": {},
   "outputs": [
    {
     "name": "stdout",
     "output_type": "stream",
     "text": [
      "else rt:  z\n",
      "====================== {'z'}\n",
      "else rt:  a\n",
      "====================== {'z', 'a'}\n",
      "else rt:  b\n",
      "====================== {'b', 'z', 'a'}\n",
      "else rt:  c\n",
      "====================== {'c', 'b', 'z', 'a'}\n",
      "else rt:  d\n",
      "====================== {'d', 'c', 'z', 'b', 'a'}\n",
      "rt:  b\n",
      "lf:  z\n",
      "lf:  a\n",
      "====================== {'d', 'c'}\n",
      "else rt:  b\n",
      "====================== {'d', 'c', 'b'}\n",
      "else rt:  e\n",
      "====================== {'d', 'e', 'c', 'b'}\n",
      "else rt:  f\n",
      "====================== {'d', 'e', 'c', 'f', 'b'}\n",
      "rt:  c\n",
      "====================== {'d', 'e', 'f', 'b'}\n",
      "else rt:  c\n",
      "====================== {'d', 'e', 'c', 'f', 'b'}\n",
      "else rt:  h\n",
      "====================== {'d', 'e', 'h', 'c', 'f', 'b'}\n",
      "else rt:  i\n",
      "====================== {'d', 'i', 'e', 'h', 'c', 'f', 'b'}\n",
      "else rt:  k\n",
      "====================== {'d', 'i', 'e', 'k', 'h', 'c', 'f', 'b'}\n"
     ]
    },
    {
     "data": {
      "text/plain": [
       "8"
      ]
     },
     "execution_count": 21,
     "metadata": {},
     "output_type": "execute_result"
    }
   ],
   "source": [
    "Solution().lengthOfLongestSubstring(s)"
   ]
  },
  {
   "cell_type": "code",
   "execution_count": null,
   "metadata": {},
   "outputs": [],
   "source": []
  }
 ],
 "metadata": {
  "kernelspec": {
   "display_name": "Python 3",
   "language": "python",
   "name": "python3"
  },
  "language_info": {
   "codemirror_mode": {
    "name": "ipython",
    "version": 3
   },
   "file_extension": ".py",
   "mimetype": "text/x-python",
   "name": "python",
   "nbconvert_exporter": "python",
   "pygments_lexer": "ipython3",
   "version": "3.8.5"
  }
 },
 "nbformat": 4,
 "nbformat_minor": 4
}
